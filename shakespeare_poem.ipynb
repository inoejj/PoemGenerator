{
 "cells": [
  {
   "cell_type": "markdown",
   "metadata": {
    "id": "vwBgtmYirASs"
   },
   "source": [
    "# Sentence Prediction"
   ]
  },
  {
   "cell_type": "code",
   "execution_count": 29,
   "metadata": {
    "executionInfo": {
     "elapsed": 2,
     "status": "ok",
     "timestamp": 1639196089276,
     "user": {
      "displayName": "Jia Jie Choong",
      "photoUrl": "https://lh3.googleusercontent.com/a-/AOh14GicvMEJnktVzRBcVA19n0emjp9oNiQzHXHYMIpUkWA=s64",
      "userId": "01733153549976976663"
     },
     "user_tz": 480
    },
    "id": "_FGNV4V6rASt"
   },
   "outputs": [],
   "source": [
    "import numpy as np\n",
    "import random\n",
    "import re\n",
    "from collections import defaultdict"
   ]
  },
  {
   "cell_type": "code",
   "execution_count": 30,
   "metadata": {
    "executionInfo": {
     "elapsed": 176,
     "status": "ok",
     "timestamp": 1639196152870,
     "user": {
      "displayName": "Jia Jie Choong",
      "photoUrl": "https://lh3.googleusercontent.com/a-/AOh14GicvMEJnktVzRBcVA19n0emjp9oNiQzHXHYMIpUkWA=s64",
      "userId": "01733153549976976663"
     },
     "user_tz": 480
    },
    "id": "Uab5tKrXr1ks"
   },
   "outputs": [],
   "source": [
    "# Read text from file and tokenize.\n",
    "path = 'shakespeare.txt'\n",
    "with open(path) as f:\n",
    "    text = f.read()\n",
    "text_list = [word for word in re.split('\\W+', text) if word != '']"
   ]
  },
  {
   "cell_type": "code",
   "execution_count": 31,
   "metadata": {
    "colab": {
     "base_uri": "https://localhost:8080/"
    },
    "executionInfo": {
     "elapsed": 140,
     "status": "ok",
     "timestamp": 1639196153864,
     "user": {
      "displayName": "Jia Jie Choong",
      "photoUrl": "https://lh3.googleusercontent.com/a-/AOh14GicvMEJnktVzRBcVA19n0emjp9oNiQzHXHYMIpUkWA=s64",
      "userId": "01733153549976976663"
     },
     "user_tz": 480
    },
    "id": "_bkPUQgos5hN",
    "outputId": "63edb06f-adfd-4456-fef1-4ee3c532d1a5"
   },
   "outputs": [],
   "source": [
    "#remove integer\n",
    "no_integers = [x for x in text_list if not x.isdigit()]\n",
    "text_list = no_integers"
   ]
  },
  {
   "cell_type": "code",
   "execution_count": 32,
   "metadata": {
    "colab": {
     "base_uri": "https://localhost:8080/"
    },
    "executionInfo": {
     "elapsed": 159,
     "status": "ok",
     "timestamp": 1639196374492,
     "user": {
      "displayName": "Jia Jie Choong",
      "photoUrl": "https://lh3.googleusercontent.com/a-/AOh14GicvMEJnktVzRBcVA19n0emjp9oNiQzHXHYMIpUkWA=s64",
      "userId": "01733153549976976663"
     },
     "user_tz": 480
    },
    "id": "QTAA3xZEr7mL",
    "outputId": "03aa6079-e285-4fba-b0c6-cba710677f51"
   },
   "outputs": [
    {
     "name": "stdout",
     "output_type": "stream",
     "text": [
      "a famine\n",
      "a tattered\n",
      "a sum\n",
      "a liquid\n",
      "him there\n",
      "him when\n",
      "him in\n",
      "him thou\n",
      "from fairest\n",
      "from highmost\n",
      "from the\n",
      "from his\n",
      "then being\n",
      "then beauteous\n",
      "then how\n",
      "then were\n"
     ]
    }
   ],
   "source": [
    "# Create graph object\n",
    "G = defaultdict(lambda: defaultdict(int))\n",
    "\n",
    "#initiate previous text\n",
    "prev_text = text_list[0].lower()\n",
    "\n",
    "for t in text_list[1:]:\n",
    "  #convert to lowercase\n",
    "  t = t.lower()\n",
    "  G[prev_text][t] += 1\n",
    "  prev_text = t\n",
    "\n",
    "# Preview graph.\n",
    "limit = 4\n",
    "for i in ('a', 'him', 'from','then'):\n",
    "  next_words = list(G[i].keys())[:limit]\n",
    "  for j in next_words:\n",
    "    print(i, j)"
   ]
  },
  {
   "cell_type": "code",
   "execution_count": 39,
   "metadata": {
    "colab": {
     "base_uri": "https://localhost:8080/"
    },
    "executionInfo": {
     "elapsed": 146,
     "status": "ok",
     "timestamp": 1639180476619,
     "user": {
      "displayName": "Jia Jie Choong",
      "photoUrl": "https://lh3.googleusercontent.com/a-/AOh14GicvMEJnktVzRBcVA19n0emjp9oNiQzHXHYMIpUkWA=s64",
      "userId": "01733153549976976663"
     },
     "user_tz": 480
    },
    "id": "i7aoArOqr--7",
    "outputId": "1f3ba166-cd23-4a82-cd70-8e6a0a82c1b6"
   },
   "outputs": [
    {
     "name": "stdout",
     "output_type": "stream",
     "text": [
      "huswife runs tickling up my tongue and now \n",
      "\n",
      "spacious in hand but an ethiope words i \n",
      "\n",
      "multitude of bargain d bear i smell that \n",
      "\n",
      "wife second witch thou dissemble with us second \n",
      "\n",
      "bird doth the honey and perdita daughter a \n",
      "\n"
     ]
    }
   ],
   "source": [
    "'''\n",
    "Generate random sentence based on markov chain.\n",
    "Input:\n",
    "  G(dict) = Dictionary consist of text\n",
    "  dist(int) = number of words in each sentence.\n",
    "  start_node(str) = a word from the dictionary (G)\n",
    "\n",
    "Return:\n",
    "  This function will return random sentences that looks like poem based on markov chain\n",
    "\n",
    "'''\n",
    "\n",
    "def generate_sentence(G, dist=5, start_node=None):\n",
    "  if dist <= 0:\n",
    "    return []\n",
    "  \n",
    "  # Pick a random starting node if None\n",
    "  if not start_node:\n",
    "    start_node = random.choice(list(G.keys()))\n",
    "  \n",
    "  \n",
    "  weights = np.array(list(G[start_node].values()),dtype=np.float32)\n",
    "  # Normalize word counts to sum to 1.\n",
    "  weights /= weights.sum()\n",
    "\n",
    "  # Pick a destination using weighted distribution.\n",
    "  choices = list(G[start_node].keys())\n",
    "  chosen_word = np.random.choice(choices, None, p=weights)\n",
    "  \n",
    "  return [chosen_word] + generate_sentence(G, dist = dist-1, start_node=chosen_word)\n",
    "  \n",
    "for i in range(5):\n",
    "  print(' '.join(generate_sentence(G, dist=8,start_node='a')), '\\n')"
   ]
  },
  {
   "cell_type": "code",
   "execution_count": 96,
   "metadata": {},
   "outputs": [
    {
     "name": "stdout",
     "output_type": "stream",
     "text": [
      "thou know you wrong therefore bind him there \n",
      "\n",
      "it to my saddle put myself will not \n",
      "\n",
      "twas one and from hence bianca a poor \n",
      "\n",
      "with the schools i stay d reproach and \n",
      "\n",
      "master with arms i ll pardon gentles perchance \n",
      "\n"
     ]
    }
   ],
   "source": [
    "for i in range(5):\n",
    "  print(' '.join(generate_sentence(G, dist=8,start_node='life')), '\\n')"
   ]
  }
 ],
 "metadata": {
  "celltoolbar": "Slideshow",
  "colab": {
   "collapsed_sections": [],
   "name": "Final_project_Due_12_16.ipynb",
   "provenance": []
  },
  "kernelspec": {
   "display_name": "Python 3 (ipykernel)",
   "language": "python",
   "name": "python3"
  },
  "language_info": {
   "codemirror_mode": {
    "name": "ipython",
    "version": 3
   },
   "file_extension": ".py",
   "mimetype": "text/x-python",
   "name": "python",
   "nbconvert_exporter": "python",
   "pygments_lexer": "ipython3",
   "version": "3.9.7"
  }
 },
 "nbformat": 4,
 "nbformat_minor": 1
}
