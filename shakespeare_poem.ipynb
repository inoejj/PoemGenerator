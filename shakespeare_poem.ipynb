{
 "cells": [
  {
   "cell_type": "code",
   "execution_count": 147,
   "metadata": {
    "executionInfo": {
     "elapsed": 2,
     "status": "ok",
     "timestamp": 1639196089276,
     "user": {
      "displayName": "Jia Jie Choong",
      "photoUrl": "https://lh3.googleusercontent.com/a-/AOh14GicvMEJnktVzRBcVA19n0emjp9oNiQzHXHYMIpUkWA=s64",
      "userId": "01733153549976976663"
     },
     "user_tz": 480
    },
    "id": "_FGNV4V6rASt"
   },
   "outputs": [],
   "source": [
    "import numpy as np\n",
    "import random\n",
    "import re\n",
    "from collections import defaultdict"
   ]
  },
  {
   "cell_type": "code",
   "execution_count": 148,
   "metadata": {},
   "outputs": [],
   "source": [
    "# Read text from file and tokenize.\n",
    "path = 'shakespeare.txt'\n",
    "with open(path) as f:\n",
    "    text = f.read()\n",
    "\n",
    "#remove copyright of in the text file\n",
    "text = text.replace('<<THIS ELECTRONIC VERSION OF THE COMPLETE WORKS OF WILLIAM\\nSHAKESPEARE IS COPYRIGHT 1990-1993 BY WORLD LIBRARY, INC., AND IS\\nPROVIDED BY PROJECT GUTENBERG ETEXT OF ILLINOIS BENEDICTINE COLLEGE\\nWITH PERMISSION.  ELECTRONIC AND MACHINE READABLE COPIES MAY BE\\nDISTRIBUTED SO LONG AS SUCH COPIES (1) ARE FOR YOUR OR OTHERS\\nPERSONAL USE ONLY, AND (2) ARE NOT DISTRIBUTED OR USED\\nCOMMERCIALLY.  PROHIBITED COMMERCIAL DISTRIBUTION INCLUDES BY ANY\\nSERVICE THAT CHARGES FOR DOWNLOAD TIME OR FOR MEMBERSHIP.>>','')"
   ]
  },
  {
   "cell_type": "code",
   "execution_count": 149,
   "metadata": {
    "executionInfo": {
     "elapsed": 176,
     "status": "ok",
     "timestamp": 1639196152870,
     "user": {
      "displayName": "Jia Jie Choong",
      "photoUrl": "https://lh3.googleusercontent.com/a-/AOh14GicvMEJnktVzRBcVA19n0emjp9oNiQzHXHYMIpUkWA=s64",
      "userId": "01733153549976976663"
     },
     "user_tz": 480
    },
    "id": "Uab5tKrXr1ks"
   },
   "outputs": [],
   "source": [
    "#spilt into words\n",
    "text_list = [word for word in re.split('\\W+', text) if word != '']\n",
    "\n",
    "#remove integer\n",
    "no_integers = [x for x in text_list if not x.isdigit()]\n",
    "text_list = no_integers\n",
    "\n",
    "#remove with a lot of spaces\n",
    "text_list = [x for x in text_list if not '   ' in x]\n",
    "\n",
    "#remove symbols\n",
    "text_list = [re.sub(r'[:,\\'\\.;!?\"\\(\\)]', '', s) for s in text_list]\n",
    "\n"
   ]
  },
  {
   "cell_type": "code",
   "execution_count": 150,
   "metadata": {
    "colab": {
     "base_uri": "https://localhost:8080/"
    },
    "executionInfo": {
     "elapsed": 159,
     "status": "ok",
     "timestamp": 1639196374492,
     "user": {
      "displayName": "Jia Jie Choong",
      "photoUrl": "https://lh3.googleusercontent.com/a-/AOh14GicvMEJnktVzRBcVA19n0emjp9oNiQzHXHYMIpUkWA=s64",
      "userId": "01733153549976976663"
     },
     "user_tz": 480
    },
    "id": "QTAA3xZEr7mL",
    "outputId": "03aa6079-e285-4fba-b0c6-cba710677f51"
   },
   "outputs": [
    {
     "name": "stdout",
     "output_type": "stream",
     "text": [
      "a famine\n",
      "a tattered\n",
      "a sum\n",
      "a liquid\n",
      "him there\n",
      "him when\n",
      "him in\n",
      "him thou\n",
      "from fairest\n",
      "from highmost\n",
      "from the\n",
      "from his\n",
      "then being\n",
      "then beauteous\n",
      "then how\n",
      "then were\n"
     ]
    }
   ],
   "source": [
    "# Create graph object\n",
    "G = defaultdict(lambda: defaultdict(int))\n",
    "\n",
    "#initiate previous text\n",
    "prev_text = text_list[0].lower()\n",
    "\n",
    "for t in text_list[1:]:\n",
    "    #convert to lowercase\n",
    "    t = t.lower()\n",
    "    G[prev_text][t] += 1\n",
    "    prev_text = t\n",
    "\n",
    "# Preview graph.\n",
    "limit = 4\n",
    "for i in ('a', 'him', 'from','then'):\n",
    "    next_words = list(G[i].keys())[:limit]\n",
    "    for j in next_words:\n",
    "        print(i, j)"
   ]
  },
  {
   "cell_type": "code",
   "execution_count": 151,
   "metadata": {
    "colab": {
     "base_uri": "https://localhost:8080/"
    },
    "executionInfo": {
     "elapsed": 146,
     "status": "ok",
     "timestamp": 1639180476619,
     "user": {
      "displayName": "Jia Jie Choong",
      "photoUrl": "https://lh3.googleusercontent.com/a-/AOh14GicvMEJnktVzRBcVA19n0emjp9oNiQzHXHYMIpUkWA=s64",
      "userId": "01733153549976976663"
     },
     "user_tz": 480
    },
    "id": "i7aoArOqr--7",
    "outputId": "1f3ba166-cd23-4a82-cd70-8e6a0a82c1b6"
   },
   "outputs": [],
   "source": [
    "'''\n",
    "Generate random sentence based on markov chain.\n",
    "Input:\n",
    "  G(dict) = Dictionary consist of text\n",
    "  dist(int) = number of words in each sentence.\n",
    "  start_node(str) = a word from the dictionary (G)\n",
    "\n",
    "Return:\n",
    "  This function will return random sentences that looks like poem based on markov chain\n",
    "\n",
    "'''\n",
    "\n",
    "def generate_sentence(G, dist=5, start_node=None):\n",
    "    if dist <= 0:\n",
    "        return []\n",
    "  \n",
    "  # Pick a random starting node if None\n",
    "    if not start_node:\n",
    "        start_node = random.choice(list(G.keys()))\n",
    "  \n",
    "  \n",
    "    weights = np.array(list(G[start_node].values()),dtype=np.float32)\n",
    "    # Normalize word counts to sum to 1.\n",
    "    weights /= weights.sum()\n",
    "\n",
    "    # Pick a destination using weighted distribution.\n",
    "    choices = list(G[start_node].keys())\n",
    "    chosen_word = np.random.choice(choices, None, p=weights)\n",
    "\n",
    "    return [chosen_word] + generate_sentence(G, dist = dist-1, start_node=chosen_word)\n"
   ]
  },
  {
   "cell_type": "code",
   "execution_count": 152,
   "metadata": {},
   "outputs": [],
   "source": [
    "start_node = 'love'\n",
    "words_per_line = 8\n",
    "no_of_sentences = 5\n"
   ]
  },
  {
   "cell_type": "code",
   "execution_count": 154,
   "metadata": {},
   "outputs": [
    {
     "name": "stdout",
     "output_type": "stream",
     "text": [
      "make use him which breaks my heart means \n",
      "\n",
      "which some cheer and my lips who s \n",
      "\n",
      "and leave me wrong and never shame and \n",
      "\n",
      "me die to th northern lord but young \n",
      "\n",
      "for these times afford no way to my \n",
      "\n"
     ]
    }
   ],
   "source": [
    "for i in range(no_of_sentences):\n",
    "    print(' '.join(generate_sentence(G, dist=words_per_line,start_node=start_node)), '\\n')"
   ]
  }
 ],
 "metadata": {
  "celltoolbar": "Slideshow",
  "colab": {
   "collapsed_sections": [],
   "name": "Final_project_Due_12_16.ipynb",
   "provenance": []
  },
  "kernelspec": {
   "display_name": "Python 3 (ipykernel)",
   "language": "python",
   "name": "python3"
  },
  "language_info": {
   "codemirror_mode": {
    "name": "ipython",
    "version": 3
   },
   "file_extension": ".py",
   "mimetype": "text/x-python",
   "name": "python",
   "nbconvert_exporter": "python",
   "pygments_lexer": "ipython3",
   "version": "3.9.7"
  }
 },
 "nbformat": 4,
 "nbformat_minor": 1
}
